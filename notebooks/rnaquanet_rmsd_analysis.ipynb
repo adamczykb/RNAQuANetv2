{
 "cells": [
  {
   "cell_type": "code",
   "execution_count": 8,
   "metadata": {},
   "outputs": [],
   "source": [
    "import pandas as pd\n",
    "import numpy as np"
   ]
  },
  {
   "cell_type": "code",
   "execution_count": 2,
   "metadata": {},
   "outputs": [],
   "source": [
    "test = pd.read_csv('/home/adamczykb/rnaquanet/data/01_raw/rnaquanet_structures/test.csv')\n",
    "train = pd.read_csv('/home/adamczykb/rnaquanet/data/01_raw/rnaquanet_structures/train.csv')\n",
    "val = pd.read_csv('/home/adamczykb/rnaquanet/data/01_raw/rnaquanet_structures/val.csv')"
   ]
  },
  {
   "cell_type": "code",
   "execution_count": 18,
   "metadata": {},
   "outputs": [
    {
     "data": {
      "text/plain": [
       "0        8.120\n",
       "1        8.972\n",
       "2        8.818\n",
       "3       16.369\n",
       "4        9.229\n",
       "         ...  \n",
       "2897     4.614\n",
       "2898     4.887\n",
       "2899     4.808\n",
       "2900     5.640\n",
       "2901     5.023\n",
       "Name: rmsd, Length: 2902, dtype: float64"
      ]
     },
     "execution_count": 18,
     "metadata": {},
     "output_type": "execute_result"
    }
   ],
   "source": [
    "test['rmsd']"
   ]
  },
  {
   "cell_type": "code",
   "execution_count": 19,
   "metadata": {},
   "outputs": [],
   "source": [
    "bins = list(np.linspace(0,10.5,22))+ list(np.linspace(11,20,10))+ list(np.linspace(21,50,30))\n",
    "test['binned'] = pd.cut(test['rmsd'], bins)"
   ]
  },
  {
   "cell_type": "code",
   "execution_count": 31,
   "metadata": {},
   "outputs": [
    {
     "data": {
      "text/plain": [
       "[182,\n",
       " 157,\n",
       " 119,\n",
       " 118,\n",
       " 115,\n",
       " 114,\n",
       " 114,\n",
       " 112,\n",
       " 107,\n",
       " 100,\n",
       " 94,\n",
       " 85,\n",
       " 84,\n",
       " 76,\n",
       " 71,\n",
       " 70,\n",
       " 67,\n",
       " 66,\n",
       " 65,\n",
       " 64,\n",
       " 62,\n",
       " 61,\n",
       " 60,\n",
       " 59,\n",
       " 58,\n",
       " 57,\n",
       " 51,\n",
       " 44,\n",
       " 42,\n",
       " 40,\n",
       " 39,\n",
       " 33,\n",
       " 33,\n",
       " 26,\n",
       " 25,\n",
       " 25,\n",
       " 25,\n",
       " 23,\n",
       " 21,\n",
       " 18,\n",
       " 16,\n",
       " 15,\n",
       " 14,\n",
       " 11,\n",
       " 10,\n",
       " 7,\n",
       " 7,\n",
       " 6,\n",
       " 5,\n",
       " 5,\n",
       " 4,\n",
       " 3,\n",
       " 3,\n",
       " 3,\n",
       " 2,\n",
       " 2,\n",
       " 2,\n",
       " 1,\n",
       " 0,\n",
       " 0,\n",
       " 0]"
      ]
     },
     "execution_count": 31,
     "metadata": {},
     "output_type": "execute_result"
    }
   ],
   "source": [
    "test['binned'].value_counts().map(lambda x: x)"
   ]
  }
 ],
 "metadata": {
  "kernelspec": {
   "display_name": ".venv",
   "language": "python",
   "name": "python3"
  },
  "language_info": {
   "codemirror_mode": {
    "name": "ipython",
    "version": 3
   },
   "file_extension": ".py",
   "mimetype": "text/x-python",
   "name": "python",
   "nbconvert_exporter": "python",
   "pygments_lexer": "ipython3",
   "version": "3.13.3"
  }
 },
 "nbformat": 4,
 "nbformat_minor": 2
}
