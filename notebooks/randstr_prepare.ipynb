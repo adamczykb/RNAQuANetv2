{
 "cells": [
  {
   "cell_type": "markdown",
   "id": "5c8e0d44",
   "metadata": {},
   "source": [
    "Prepare dataset for training"
   ]
  },
  {
   "cell_type": "code",
   "execution_count": 10,
   "id": "bbf4074c",
   "metadata": {},
   "outputs": [],
   "source": [
    "import pandas as pd\n",
    "import os\n",
    "import subprocess"
   ]
  },
  {
   "cell_type": "code",
   "execution_count": 16,
   "id": "db4c1502",
   "metadata": {},
   "outputs": [],
   "source": [
    "models=[]\n",
    "for csv in os.listdir('/home/adamczykb/Downloads/randstr/csv/'):\n",
    "    if not csv.endswith('_t.rmsd'):\n",
    "        continue\n",
    "    temp = pd.read_csv(f'/home/adamczykb/Downloads/randstr/csv/{csv}',sep=' ')\n",
    "    models.append(temp.loc[temp['STRUCTURE'].str.contains('_M'),['STRUCTURE','RMSD-ALL']])\n"
   ]
  },
  {
   "cell_type": "code",
   "execution_count": null,
   "id": "d00d565b",
   "metadata": {},
   "outputs": [],
   "source": [
    "models = pd.concat( models )\n",
    "models['STRUCTURE'] = models['STRUCTURE']+'.pdb'\n"
   ]
  },
  {
   "cell_type": "code",
   "execution_count": null,
   "id": "b9718b66",
   "metadata": {},
   "outputs": [],
   "source": [
    "models.to_csv('/home/adamczykb/rnaquanet/data/01_raw/randstr/train.csv',index=False)"
   ]
  }
 ],
 "metadata": {
  "kernelspec": {
   "display_name": ".venv",
   "language": "python",
   "name": "python3"
  },
  "language_info": {
   "codemirror_mode": {
    "name": "ipython",
    "version": 3
   },
   "file_extension": ".py",
   "mimetype": "text/x-python",
   "name": "python",
   "nbconvert_exporter": "python",
   "pygments_lexer": "ipython3",
   "version": "3.13.3"
  }
 },
 "nbformat": 4,
 "nbformat_minor": 5
}
