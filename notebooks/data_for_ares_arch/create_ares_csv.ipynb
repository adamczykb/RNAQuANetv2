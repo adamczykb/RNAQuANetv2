{
 "cells": [
  {
   "cell_type": "markdown",
   "id": "acc9d351",
   "metadata": {},
   "source": [
    "## Create ares csv for lmdb"
   ]
  },
  {
   "cell_type": "code",
   "execution_count": 29,
   "id": "14b38db7",
   "metadata": {},
   "outputs": [],
   "source": [
    "import pandas as pd\n",
    "import os\n",
    "ori_train = pd.read_csv('./lociparse_structures/train.csv')\n",
    "ori_train\n",
    "c=[\"SCORE:\", \"score\", \"fa_atr\", \"fa_rep\", \"fa_intra_rep\", \"lk_nonpolar\" ,\"fa_elec_rna_phos_phos\", \"rna_torsion\" ,\"suiteness_bonus\" ,\"rna_sugar_close\" ,\"fa_stack\" ,\"stack_elec\" ,\"geom_sol_fast\" ,\"hbond_sr_bb_sc\", \"hbond_lr_bb_sc\" ,\"hbond_sc\", \"ref\" ,\"free_suite\", \"free_2HOprime\", \"intermol\", \"other_pose\", \"loop_close\" ,\"linear_chainbreak\" ,\"N_BP\" ,\"N_BS\" ,\"N_NWC\" ,\"N_WC\", \"f_natBP\", \"f_natNWC\", \"f_natWC\" ,\"natBP\" ,\"natNWC\", \"natWC\", \"rms_stem\", \"silent_score\", \"time\" , \"dih_rms\", \"gdt_ha\"]\n",
    "new_train = pd.DataFrame({\"description\": ori_train['id']+'.pdb',\"rms\":ori_train['RMSD'],\"new_rms\":ori_train['RMSD']})\n",
    "new_train[[c]]=0\n",
    "new_train['SCORE:'] = 'SCORE:'"
   ]
  },
  {
   "cell_type": "code",
   "execution_count": 34,
   "id": "52393b94",
   "metadata": {},
   "outputs": [],
   "source": [
    "new_train[c+['rms', 'new_rms','description']].to_csv('./lociparse_structures/train.sc', index=False,sep=' ')"
   ]
  },
  {
   "cell_type": "code",
   "execution_count": 35,
   "id": "ca2da499",
   "metadata": {},
   "outputs": [],
   "source": [
    "r = set(new_train['description'].values)\n",
    "r2=set(os.listdir('/home/adamczykb/rnaquanet/notebooks/data_for_ares_arch/lociparse_structures/ares_train'))\n",
    "for i in list(r2-r):\n",
    "    os.remove('/home/adamczykb/rnaquanet/notebooks/data_for_ares_arch/lociparse_structures/ares_train/'+i)"
   ]
  },
  {
   "cell_type": "code",
   "execution_count": 36,
   "id": "a0044485",
   "metadata": {},
   "outputs": [],
   "source": [
    "import pandas as pd\n",
    "import numpy as np\n",
    "ori_val = pd.read_csv('./lociparse_structures/val.csv')\n",
    "ori_val\n",
    "c=[\"SCORE:\", \"score\", \"fa_atr\", \"fa_rep\", \"fa_intra_rep\", \"lk_nonpolar\" ,\"fa_elec_rna_phos_phos\", \"rna_torsion\" ,\"suiteness_bonus\" ,\"rna_sugar_close\" ,\"fa_stack\" ,\"stack_elec\" ,\"geom_sol_fast\" ,\"hbond_sr_bb_sc\", \"hbond_lr_bb_sc\" ,\"hbond_sc\", \"ref\" ,\"free_suite\", \"free_2HOprime\", \"intermol\", \"other_pose\", \"loop_close\" ,\"linear_chainbreak\" ,\"N_BP\" ,\"N_BS\" ,\"N_NWC\" ,\"N_WC\", \"f_natBP\", \"f_natNWC\", \"f_natWC\" ,\"natBP\" ,\"natNWC\", \"natWC\", \"rms_stem\", \"silent_score\", \"time\" , \"dih_rms\", \"gdt_ha\"]\n",
    "ori_val = pd.DataFrame({\"description\": ori_val['id']+'.pdb',\"rms\":ori_val['RMSD'],\"new_rms\":ori_val['RMSD']})\n",
    "ori_val[[c]]=0\n",
    "ori_val['SCORE:'] = 'SCORE:'"
   ]
  },
  {
   "cell_type": "code",
   "execution_count": 37,
   "id": "0d21e1cb",
   "metadata": {},
   "outputs": [],
   "source": [
    "r = set(ori_val['description'].values)\n",
    "r2=set(os.listdir('/home/adamczykb/rnaquanet/notebooks/data_for_ares_arch/lociparse_structures/ares_val'))\n",
    "for i in list(r2-r):\n",
    "    os.remove('/home/adamczykb/rnaquanet/notebooks/data_for_ares_arch/lociparse_structures/ares_val/'+i)"
   ]
  },
  {
   "cell_type": "code",
   "execution_count": 38,
   "id": "a02fc805",
   "metadata": {},
   "outputs": [],
   "source": [
    "ori_val[c+['rms', 'new_rms','description']].to_csv('./lociparse_structures/val.sc', index=False,sep=' ')\n"
   ]
  }
 ],
 "metadata": {
  "kernelspec": {
   "display_name": ".venv",
   "language": "python",
   "name": "python3"
  },
  "language_info": {
   "codemirror_mode": {
    "name": "ipython",
    "version": 3
   },
   "file_extension": ".py",
   "mimetype": "text/x-python",
   "name": "python",
   "nbconvert_exporter": "python",
   "pygments_lexer": "ipython3",
   "version": "3.13.3"
  }
 },
 "nbformat": 4,
 "nbformat_minor": 5
}
